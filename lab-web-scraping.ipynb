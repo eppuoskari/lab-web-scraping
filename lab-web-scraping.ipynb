{
 "cells": [
  {
   "cell_type": "markdown",
   "id": "7e7a1ab8-2599-417d-9a65-25ef07f3a786",
   "metadata": {
    "id": "7e7a1ab8-2599-417d-9a65-25ef07f3a786"
   },
   "source": [
    "# Lab | Web Scraping"
   ]
  },
  {
   "cell_type": "markdown",
   "id": "ce8882fc-4815-4567-92fa-b4816358ba7d",
   "metadata": {
    "id": "ce8882fc-4815-4567-92fa-b4816358ba7d"
   },
   "source": [
    "Welcome to the \"Books to Scrape\" Web Scraping Adventure Lab!\n",
    "\n",
    "**Objective**\n",
    "\n",
    "In this lab, we will embark on a mission to unearth valuable insights from the data available on Books to Scrape, an online platform showcasing a wide variety of books. As data analyst, you have been tasked with scraping a specific subset of book data from Books to Scrape to assist publishing companies in understanding the landscape of highly-rated books across different genres. Your insights will help shape future book marketing strategies and publishing decisions.\n",
    "\n",
    "**Background**\n",
    "\n",
    "In a world where data has become the new currency, businesses are leveraging big data to make informed decisions that drive success and profitability. The publishing industry, much like others, utilizes data analytics to understand market trends, reader preferences, and the performance of books based on factors such as genre, author, and ratings. Books to Scrape serves as a rich source of such data, offering detailed information about a diverse range of books, making it an ideal platform for extracting insights to aid in informed decision-making within the literary world.\n",
    "\n",
    "**Task**\n",
    "\n",
    "Your task is to create a Python script using BeautifulSoup and pandas to scrape Books to Scrape book data, focusing on book ratings and genres. The script should be able to filter books with ratings above a certain threshold and in specific genres. Additionally, the script should structure the scraped data in a tabular format using pandas for further analysis.\n",
    "\n",
    "**Expected Outcome**\n",
    "\n",
    "A function named `scrape_books` that takes two parameters: `min_rating` and `max_price`. The function should scrape book data from the \"Books to Scrape\" website and return a `pandas` DataFrame with the following columns:\n",
    "\n",
    "**Expected Outcome**\n",
    "\n",
    "- A function named `scrape_books` that takes two parameters: `min_rating` and `max_price`.\n",
    "- The function should return a DataFrame with the following columns:\n",
    "  - **UPC**: The Universal Product Code (UPC) of the book.\n",
    "  - **Title**: The title of the book.\n",
    "  - **Price (£)**: The price of the book in pounds.\n",
    "  - **Rating**: The rating of the book (1-5 stars).\n",
    "  - **Genre**: The genre of the book.\n",
    "  - **Availability**: Whether the book is in stock or not.\n",
    "  - **Description**: A brief description or product description of the book (if available).\n",
    "  \n",
    "You will execute this script to scrape data for books with a minimum rating of `4.0 and above` and a maximum price of `£20`. \n",
    "\n",
    "Remember to experiment with different ratings and prices to ensure your code is versatile and can handle various searches effectively!\n",
    "\n",
    "**Resources**\n",
    "\n",
    "- [Beautiful Soup Documentation](https://www.crummy.com/software/BeautifulSoup/bs4/doc/)\n",
    "- [Pandas Documentation](https://pandas.pydata.org/pandas-docs/stable/index.html)\n",
    "- [Books to Scrape](https://books.toscrape.com/)\n"
   ]
  },
  {
   "cell_type": "markdown",
   "id": "3519921d-5890-445b-9a33-934ed8ee378c",
   "metadata": {
    "id": "3519921d-5890-445b-9a33-934ed8ee378c"
   },
   "source": [
    "**Hint**\n",
    "\n",
    "Your first mission is to familiarize yourself with the **Books to Scrape** website. Navigate to [Books to Scrape](http://books.toscrape.com/) and explore the available books to understand their layout and structure. \n",
    "\n",
    "Next, think about how you can set parameters for your data extraction:\n",
    "\n",
    "- **Minimum Rating**: Focus on books with a rating of 4.0 and above.\n",
    "- **Maximum Price**: Filter for books priced up to £20.\n",
    "\n",
    "After reviewing the site, you can construct a plan for scraping relevant data. Pay attention to the details displayed for each book, including the title, price, rating, and availability. This will help you identify the correct HTML elements to target with your scraping script.\n",
    "\n",
    "Make sure to build your scraping URL and logic based on the patterns you observe in the HTML structure of the book listings!"
   ]
  },
  {
   "cell_type": "markdown",
   "id": "25a83a0d-a742-49f6-985e-e27887cbf922",
   "metadata": {
    "id": "25a83a0d-a742-49f6-985e-e27887cbf922"
   },
   "source": [
    "\n",
    "---\n",
    "\n",
    "**Best of luck! Immerse yourself in the world of books, and may the data be with you!**"
   ]
  },
  {
   "cell_type": "markdown",
   "id": "7b75cf0d-9afa-4eec-a9e2-befeac68b2a0",
   "metadata": {
    "id": "7b75cf0d-9afa-4eec-a9e2-befeac68b2a0"
   },
   "source": [
    "**Important Note**:\n",
    "\n",
    "In the fast-changing online world, websites often update and change their structures. When you try this lab, the **Books to Scrape** website might differ from what you expect.\n",
    "\n",
    "If you encounter issues due to these changes, like new rules or obstacles preventing data extraction, don’t worry! Get creative.\n",
    "\n",
    "You can choose another website that interests you and is suitable for scraping data. Options like Wikipedia, The New York Times, or even library databases are great alternatives. The main goal remains the same: extract useful data and enhance your web scraping skills while exploring a source of information you enjoy. This is your opportunity to practice and adapt to different web environments!"
   ]
  },
  {
   "cell_type": "code",
   "execution_count": 216,
   "id": "40359eee-9cd7-4884-bfa4-83344c222305",
   "metadata": {
    "id": "40359eee-9cd7-4884-bfa4-83344c222305"
   },
   "outputs": [],
   "source": [
    "# Let's set up the libraries and import all nesessary things\n",
    "import requests\n",
    "import pandas as pd\n",
    "from bs4 import BeautifulSoup"
   ]
  },
  {
   "cell_type": "code",
   "execution_count": 217,
   "id": "1e6d12ee-8903-40cb-8f8b-2be1396a6ede",
   "metadata": {},
   "outputs": [],
   "source": [
    "url = \"https://books.toscrape.com/catalogue/page-1.html\"\n",
    "response = requests.get(url)"
   ]
  },
  {
   "cell_type": "code",
   "execution_count": 221,
   "id": "d4fe098c-0b36-469e-b4a5-658389200dab",
   "metadata": {},
   "outputs": [],
   "source": [
    "# Getting the list of all individual book URL's. The function loops trough all 50 pages\n",
    "# From each of the page, function extracts the URL for 20 books.\n",
    "# Retunr the complet list of 1000 URL's\n",
    "base_url = \"https://books.toscrape.com/catalogue/\"\n",
    "all_book_urls = []\n",
    "\n",
    "# Loop through all 50 pages\n",
    "for page_num in range(1, 51):\n",
    "    url = f\"{base_url}page-{page_num}.html\"\n",
    "    response = requests.get(url)\n",
    "    soup = BeautifulSoup(response.content)\n",
    "    grid = soup.find(\"ol\", attrs = {\"class\":\"row\"})\n",
    "    books = grid.find_all(\"li\", attrs = {\"class\":\"col-xs-6 col-sm-4 col-md-3 col-lg-3\"})\n",
    "\n",
    "    for book in books: # Loop trough all books per page\n",
    "        book_link = book.find(\"h3\").find(\"a\")[\"href\"]\n",
    "        full_link = base_url + book_link\n",
    "        all_book_urls.append(full_link)"
   ]
  },
  {
   "cell_type": "code",
   "execution_count": 218,
   "id": "2bf19304-8d36-41f6-9d38-1fd308da67d7",
   "metadata": {},
   "outputs": [],
   "source": [
    "# Let's define the functions to get the required data\n",
    "# All data is retrieved using the individual URL's\n",
    "def get_upc(book):\n",
    "    \"\"\"\n",
    "    Function to get the book UPC\n",
    "    \"\"\"\n",
    "    soup = BeautifulSoup(response.content)\n",
    "    upc = soup.find(\"table\", attrs = {\"class\":\"table table-striped\"}).find(\"tr\").find(\"td\").text.strip()\n",
    "    return upc\n",
    "\n",
    "def get_title(book):\n",
    "    \"\"\"\n",
    "    Function to get the book title\n",
    "    \"\"\"\n",
    "    soup = BeautifulSoup(response.content)\n",
    "    main = soup.find(\"div\", attrs = {\"class\":\"col-sm-6 product_main\"})\n",
    "    title = main.find(\"h1\").get_text()\n",
    "    return title\n",
    "\n",
    "def get_price(book):\n",
    "    \"\"\"\n",
    "    Function to get the book price\n",
    "    \"\"\"\n",
    "    soup = BeautifulSoup(response.content)\n",
    "    main = soup.find(\"div\", attrs = {\"class\":\"col-sm-6 product_main\"})\n",
    "    price = float(main.find(\"p\", attrs = {\"class\":\"price_color\"}).get_text().replace(\"£\",\"\"))\n",
    "    return price\n",
    "\n",
    "def get_rating(book):\n",
    "    \"\"\"\n",
    "    Function to get the book rating\n",
    "    \"\"\"\n",
    "    soup = BeautifulSoup(response.content)\n",
    "    main = soup.find(\"div\", attrs = {\"class\":\"col-sm-6 product_main\"})\n",
    "    rating = main.find(\"p\", class_=\"star-rating\").get(\"class\")[1]\n",
    "    rating_map = {\n",
    "    \"One\": 1,\n",
    "    \"Two\": 2,\n",
    "    \"Three\": 3,\n",
    "    \"Four\": 4,\n",
    "    \"Five\": 5\n",
    "    }\n",
    "    rating = rating_map.get(rating)\n",
    "    return rating\n",
    "\n",
    "def get_genre(book):\n",
    "    \"\"\"\n",
    "    Function to get the book genre\n",
    "    \"\"\"\n",
    "    soup = BeautifulSoup(response.content)\n",
    "    genre = soup.find(\"ul\", {\"class\":\"breadcrumb\"}).find_all(\"li\")[2].find(\"a\").text.strip()\n",
    "    return genre\n",
    "\n",
    "def get_availability(book):\n",
    "    \"\"\"\n",
    "    Function to get the book availability\n",
    "    \"\"\"\n",
    "    soup = BeautifulSoup(response.content)\n",
    "    main = soup.find(\"div\", attrs = {\"class\":\"col-sm-6 product_main\"})\n",
    "    availability = main.find(\"p\", attrs = {\"class\":\"instock availability\"}).text.strip()\n",
    "    return availability\n",
    "\n",
    "def get_description(book):\n",
    "    \"\"\"\n",
    "    Function to get the book description\n",
    "    \"\"\"\n",
    "    soup = BeautifulSoup(response.content)\n",
    "    description = soup.find(\"div\", attrs = {\"id\":\"product_description\"}).find_next_sibling(\"p\").text.strip()\n",
    "    return description"
   ]
  },
  {
   "cell_type": "code",
   "execution_count": null,
   "id": "ab7e307e-e342-432e-b697-e9c08d4754f0",
   "metadata": {},
   "outputs": [],
   "source": [
    "#Lets iterate our functions to all book urls, and save the retrieved data in a dataframen\n",
    "min_rating = 4 \n",
    "max_price = 20.0\n",
    "\n",
    "books_dict = {}\n",
    "key = 0\n",
    "\n",
    "for book in all_book_urls:\n",
    "    response = requests.get(book)\n",
    "\n",
    "    rating = get_rating(book)\n",
    "    if rating < min_rating:\n",
    "        continue\n",
    "    else:\n",
    "        price = get_price(book)\n",
    "        if price > max_price:\n",
    "            continue\n",
    "        else:\n",
    "            upc = get_upc(book)\n",
    "            title = get_title(book)\n",
    "            genre = get_genre(book)\n",
    "            availability = get_availability(book)\n",
    "            description = get_description(book)\n",
    "        \n",
    "            books_dict[key] = {\"upc\": upc,\n",
    "                               \"title\": title,\n",
    "                               \"price\": price,\n",
    "                               \"rating\": rating,\n",
    "                               \"genre\": genre,\n",
    "                               \"availability\": availability,\n",
    "                               \"description\": description\n",
    "                              }\n",
    "            key += 1\n",
    "\n",
    "\n",
    "books_df = pd.DataFrame.from_dict(books_dict, orient = \"index\")\n",
    "books_df"
   ]
  }
 ],
 "metadata": {
  "colab": {
   "provenance": []
  },
  "kernelspec": {
   "display_name": "Python [conda env:base] *",
   "language": "python",
   "name": "conda-base-py"
  },
  "language_info": {
   "codemirror_mode": {
    "name": "ipython",
    "version": 3
   },
   "file_extension": ".py",
   "mimetype": "text/x-python",
   "name": "python",
   "nbconvert_exporter": "python",
   "pygments_lexer": "ipython3",
   "version": "3.13.5"
  }
 },
 "nbformat": 4,
 "nbformat_minor": 5
}
